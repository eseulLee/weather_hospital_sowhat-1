{
 "cells": [
  {
   "cell_type": "code",
   "execution_count": 1,
   "id": "232ae03d",
   "metadata": {},
   "outputs": [],
   "source": [
    "import pandas as pd"
   ]
  },
  {
   "cell_type": "code",
   "execution_count": 2,
   "id": "322f39c5",
   "metadata": {},
   "outputs": [],
   "source": [
    "area = pd.read_csv('./raw_data/방재기상관측(AWS)지점.csv')\n",
    "area.rename(columns={'지점번호':'stn_id'}, inplace=True)\n",
    "\n",
    "area_dict = area.drop(labels=['경도(degree)','위도(degree)','노장해발고도(m)','지점명(한글)','예보구역코드'], axis=1)\n",
    "area_dict = area_dict.astype('string')\n",
    "area_dict['법정동코드'] = area_dict['법정동코드'].str[0:2]\n",
    "area_dict = area_dict.astype('int')\n",
    "\n",
    "area_dict = area_dict.set_index('stn_id').T.to_dict('records')[0]"
   ]
  },
  {
   "cell_type": "code",
   "execution_count": 3,
   "id": "54f976e7",
   "metadata": {},
   "outputs": [],
   "source": [
    "temp = pd.read_csv('./raw_data/temp.csv')\n",
    "airPressure = pd.read_csv('./raw_data/airPressure(해면기압)_0706.csv')\n",
    "rain = pd.read_csv('./raw_data/rain.csv')\n",
    "sun = pd.read_csv('./raw_data/sun.csv')\n",
    "humidity = pd.read_csv('./raw_data/humidity_0707.csv')"
   ]
  },
  {
   "cell_type": "code",
   "execution_count": 4,
   "id": "995bf3ac",
   "metadata": {},
   "outputs": [],
   "source": [
    "datas = [[temp,'temp'], [airPressure,'airPressure'], [rain,'rain'], [sun,'sun'], [humidity,'humidity']]"
   ]
  },
  {
   "cell_type": "code",
   "execution_count": 5,
   "id": "3814041f",
   "metadata": {},
   "outputs": [],
   "source": [
    "area_name = {\n",
    "11:'서울',\n",
    "26:'부산',\n",
    "27:'대구',\n",
    "28:'인천',\n",
    "29:'광주',\n",
    "30:'대전',\n",
    "31:'울산',\n",
    "36:'세종',\n",
    "41:'경기',\n",
    "42:'강원',\n",
    "43:'충북',\n",
    "44:'충남',\n",
    "45:'전북',\n",
    "46:'전남',\n",
    "47:'경북',\n",
    "48:'경남',\n",
    "49:'제주',#csv 파일에선 서귀포시가 49로 시작함. 행안부에선 서귀포시도 50인데...\n",
    "50:'제주'\n",
    "}"
   ]
  },
  {
   "cell_type": "code",
   "execution_count": 6,
   "id": "cddfd92d",
   "metadata": {
    "scrolled": false
   },
   "outputs": [
    {
     "name": "stdout",
     "output_type": "stream",
     "text": [
      "temp start\n",
      "tma              0\n",
      "stn_id           0\n",
      "avg_ta       13258\n",
      "max_ta       31079\n",
      "min_ta       31077\n",
      "area_int    105159\n",
      "dtype: int64\n"
     ]
    },
    {
     "name": "stderr",
     "output_type": "stream",
     "text": [
      "/var/folders/f5/x0_185757lld2fhv6ygmb8f40000gn/T/ipykernel_76573/318220349.py:10: SettingWithCopyWarning: \n",
      "A value is trying to be set on a copy of a slice from a DataFrame.\n",
      "Try using .loc[row_indexer,col_indexer] = value instead\n",
      "\n",
      "See the caveats in the documentation: https://pandas.pydata.org/pandas-docs/stable/user_guide/indexing.html#returning-a-view-versus-a-copy\n",
      "  csv2['area'] = csv2['area_int'].map(area_name)\n",
      "/var/folders/f5/x0_185757lld2fhv6ygmb8f40000gn/T/ipykernel_76573/318220349.py:11: SettingWithCopyWarning: \n",
      "A value is trying to be set on a copy of a slice from a DataFrame\n",
      "\n",
      "See the caveats in the documentation: https://pandas.pydata.org/pandas-docs/stable/user_guide/indexing.html#returning-a-view-versus-a-copy\n",
      "  csv2.drop(labels=['area_int'], axis=1, inplace=True)\n"
     ]
    },
    {
     "name": "stdout",
     "output_type": "stream",
     "text": [
      "tma           0\n",
      "stn_id        0\n",
      "avg_ta    11020\n",
      "max_ta    27945\n",
      "min_ta    27945\n",
      "area          0\n",
      "dtype: int64\n",
      "====================================================================================================\n",
      "airPressure start\n",
      "tma              0\n",
      "stn_id           0\n",
      "avg_ps      814623\n",
      "max_ps      784378\n",
      "min_ps      785899\n",
      "area_int    105038\n",
      "dtype: int64\n"
     ]
    },
    {
     "name": "stderr",
     "output_type": "stream",
     "text": [
      "/var/folders/f5/x0_185757lld2fhv6ygmb8f40000gn/T/ipykernel_76573/318220349.py:10: SettingWithCopyWarning: \n",
      "A value is trying to be set on a copy of a slice from a DataFrame.\n",
      "Try using .loc[row_indexer,col_indexer] = value instead\n",
      "\n",
      "See the caveats in the documentation: https://pandas.pydata.org/pandas-docs/stable/user_guide/indexing.html#returning-a-view-versus-a-copy\n",
      "  csv2['area'] = csv2['area_int'].map(area_name)\n",
      "/var/folders/f5/x0_185757lld2fhv6ygmb8f40000gn/T/ipykernel_76573/318220349.py:11: SettingWithCopyWarning: \n",
      "A value is trying to be set on a copy of a slice from a DataFrame\n",
      "\n",
      "See the caveats in the documentation: https://pandas.pydata.org/pandas-docs/stable/user_guide/indexing.html#returning-a-view-versus-a-copy\n",
      "  csv2.drop(labels=['area_int'], axis=1, inplace=True)\n"
     ]
    },
    {
     "name": "stdout",
     "output_type": "stream",
     "text": [
      "tma            0\n",
      "stn_id         0\n",
      "avg_ps    780987\n",
      "max_ps    752147\n",
      "min_ps    753504\n",
      "area           0\n",
      "dtype: int64\n",
      "====================================================================================================\n",
      "rain start\n",
      "tma              0\n",
      "stn_id           0\n",
      "sum_rn       33998\n",
      "area_int    105038\n",
      "dtype: int64\n"
     ]
    },
    {
     "name": "stderr",
     "output_type": "stream",
     "text": [
      "/var/folders/f5/x0_185757lld2fhv6ygmb8f40000gn/T/ipykernel_76573/318220349.py:10: SettingWithCopyWarning: \n",
      "A value is trying to be set on a copy of a slice from a DataFrame.\n",
      "Try using .loc[row_indexer,col_indexer] = value instead\n",
      "\n",
      "See the caveats in the documentation: https://pandas.pydata.org/pandas-docs/stable/user_guide/indexing.html#returning-a-view-versus-a-copy\n",
      "  csv2['area'] = csv2['area_int'].map(area_name)\n",
      "/var/folders/f5/x0_185757lld2fhv6ygmb8f40000gn/T/ipykernel_76573/318220349.py:11: SettingWithCopyWarning: \n",
      "A value is trying to be set on a copy of a slice from a DataFrame\n",
      "\n",
      "See the caveats in the documentation: https://pandas.pydata.org/pandas-docs/stable/user_guide/indexing.html#returning-a-view-versus-a-copy\n",
      "  csv2.drop(labels=['area_int'], axis=1, inplace=True)\n"
     ]
    },
    {
     "name": "stdout",
     "output_type": "stream",
     "text": [
      "tma           0\n",
      "stn_id        0\n",
      "sum_rn    18263\n",
      "area          0\n",
      "dtype: int64\n",
      "====================================================================================================\n",
      "sun start\n",
      "tma              0\n",
      "stn_id           0\n",
      "sum_gsr          0\n",
      "area_int    100232\n",
      "dtype: int64\n"
     ]
    },
    {
     "name": "stderr",
     "output_type": "stream",
     "text": [
      "/var/folders/f5/x0_185757lld2fhv6ygmb8f40000gn/T/ipykernel_76573/318220349.py:10: SettingWithCopyWarning: \n",
      "A value is trying to be set on a copy of a slice from a DataFrame.\n",
      "Try using .loc[row_indexer,col_indexer] = value instead\n",
      "\n",
      "See the caveats in the documentation: https://pandas.pydata.org/pandas-docs/stable/user_guide/indexing.html#returning-a-view-versus-a-copy\n",
      "  csv2['area'] = csv2['area_int'].map(area_name)\n",
      "/var/folders/f5/x0_185757lld2fhv6ygmb8f40000gn/T/ipykernel_76573/318220349.py:11: SettingWithCopyWarning: \n",
      "A value is trying to be set on a copy of a slice from a DataFrame\n",
      "\n",
      "See the caveats in the documentation: https://pandas.pydata.org/pandas-docs/stable/user_guide/indexing.html#returning-a-view-versus-a-copy\n",
      "  csv2.drop(labels=['area_int'], axis=1, inplace=True)\n"
     ]
    },
    {
     "name": "stdout",
     "output_type": "stream",
     "text": [
      "tma        0\n",
      "stn_id     0\n",
      "sum_gsr    0\n",
      "area       0\n",
      "dtype: int64\n",
      "====================================================================================================\n",
      "humidity start\n",
      "tma              0\n",
      "stn_id           0\n",
      "avg_rhm     579954\n",
      "min_rhm     556381\n",
      "area_int    105038\n",
      "dtype: int64\n"
     ]
    },
    {
     "name": "stderr",
     "output_type": "stream",
     "text": [
      "/var/folders/f5/x0_185757lld2fhv6ygmb8f40000gn/T/ipykernel_76573/318220349.py:10: SettingWithCopyWarning: \n",
      "A value is trying to be set on a copy of a slice from a DataFrame.\n",
      "Try using .loc[row_indexer,col_indexer] = value instead\n",
      "\n",
      "See the caveats in the documentation: https://pandas.pydata.org/pandas-docs/stable/user_guide/indexing.html#returning-a-view-versus-a-copy\n",
      "  csv2['area'] = csv2['area_int'].map(area_name)\n",
      "/var/folders/f5/x0_185757lld2fhv6ygmb8f40000gn/T/ipykernel_76573/318220349.py:11: SettingWithCopyWarning: \n",
      "A value is trying to be set on a copy of a slice from a DataFrame\n",
      "\n",
      "See the caveats in the documentation: https://pandas.pydata.org/pandas-docs/stable/user_guide/indexing.html#returning-a-view-versus-a-copy\n",
      "  csv2.drop(labels=['area_int'], axis=1, inplace=True)\n"
     ]
    },
    {
     "name": "stdout",
     "output_type": "stream",
     "text": [
      "tma             0\n",
      "stn_id          0\n",
      "avg_rhm    575031\n",
      "min_rhm    554695\n",
      "area            0\n",
      "dtype: int64\n",
      "====================================================================================================\n"
     ]
    }
   ],
   "source": [
    "for csv, csv_name in datas:\n",
    "    print(csv_name + ' start')\n",
    "    csv.drop(['Unnamed: 0'], axis=1, inplace=True)\n",
    "    csv['stn_id'] = csv['stn_id'].astype('int')\n",
    "    csv['area_int'] = csv['stn_id'].map(area_dict)\n",
    "    print(csv.isnull().sum())\n",
    "    \n",
    "    csv2 = csv.dropna(subset = ['area_int'])\n",
    "    csv2.reset_index(drop=True, inplace=True)\n",
    "    csv2['area'] = csv2['area_int'].map(area_name)\n",
    "    csv2.drop(labels=['area_int'], axis=1, inplace=True)\n",
    "    print(csv2.isnull().sum())\n",
    "    \n",
    "    csv2.to_csv('./edited_data/'+csv_name+'_area_0708.csv', encoding='cp949')\n",
    "    print('='*100)"
   ]
  },
  {
   "cell_type": "code",
   "execution_count": null,
   "id": "adc26d3f",
   "metadata": {},
   "outputs": [],
   "source": []
  }
 ],
 "metadata": {
  "kernelspec": {
   "display_name": "Python 3 (ipykernel)",
   "language": "python",
   "name": "python3"
  },
  "language_info": {
   "codemirror_mode": {
    "name": "ipython",
    "version": 3
   },
   "file_extension": ".py",
   "mimetype": "text/x-python",
   "name": "python",
   "nbconvert_exporter": "python",
   "pygments_lexer": "ipython3",
   "version": "3.9.0"
  }
 },
 "nbformat": 4,
 "nbformat_minor": 5
}
