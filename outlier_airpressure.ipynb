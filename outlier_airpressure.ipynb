{
 "cells": [
  {
   "cell_type": "code",
   "execution_count": 1,
   "id": "7fe8e7fa",
   "metadata": {},
   "outputs": [],
   "source": [
    "import pandas as pd"
   ]
  },
  {
   "cell_type": "code",
   "execution_count": 2,
   "id": "4c942b41",
   "metadata": {},
   "outputs": [],
   "source": [
    "path = 'Z:/공모전/날씨빅데이터콘테스트(공유)/data/edited_data/airPressure_edited_0714.csv'"
   ]
  },
  {
   "cell_type": "markdown",
   "id": "3f805304",
   "metadata": {},
   "source": [
    "## air_pressure\n",
    "\n",
    "- 기압 상한: 1080\n",
    "- 기압 하한: 500\n",
    "\n",
    "- 범위 밖의 값을 이상치로 판단\n",
    "- 이상치 값만 해당 날짜의 전체 평균으로 대체\n",
    "\n",
    "- min,max 이상치 대체\n",
    "- avg 이상치 : min, max 로 다시 구해서 넣기"
   ]
  },
  {
   "cell_type": "code",
   "execution_count": 5,
   "id": "9c11299e",
   "metadata": {
    "scrolled": true
   },
   "outputs": [
    {
     "name": "stdout",
     "output_type": "stream",
     "text": [
      "<class 'pandas.core.frame.DataFrame'>\n",
      "Int64Index: 31586 entries, 0 to 31585\n",
      "Data columns (total 5 columns):\n",
      " #   Column  Non-Null Count  Dtype  \n",
      "---  ------  --------------  -----  \n",
      " 0   area    31586 non-null  object \n",
      " 1   tma     31586 non-null  object \n",
      " 2   avg_ps  31586 non-null  float64\n",
      " 3   max_ps  31586 non-null  float64\n",
      " 4   min_ps  31586 non-null  float64\n",
      "dtypes: float64(3), object(2)\n",
      "memory usage: 1.4+ MB\n"
     ]
    }
   ],
   "source": [
    "df = pd.read_csv(path, encoding='cp949', index_col=0)\n",
    "df.info()"
   ]
  },
  {
   "cell_type": "code",
   "execution_count": 6,
   "id": "ea7ee48c",
   "metadata": {
    "scrolled": true
   },
   "outputs": [
    {
     "data": {
      "text/html": [
       "<div>\n",
       "<style scoped>\n",
       "    .dataframe tbody tr th:only-of-type {\n",
       "        vertical-align: middle;\n",
       "    }\n",
       "\n",
       "    .dataframe tbody tr th {\n",
       "        vertical-align: top;\n",
       "    }\n",
       "\n",
       "    .dataframe thead th {\n",
       "        text-align: right;\n",
       "    }\n",
       "</style>\n",
       "<table border=\"1\" class=\"dataframe\">\n",
       "  <thead>\n",
       "    <tr style=\"text-align: right;\">\n",
       "      <th></th>\n",
       "      <th>avg_ps</th>\n",
       "      <th>max_ps</th>\n",
       "      <th>min_ps</th>\n",
       "    </tr>\n",
       "  </thead>\n",
       "  <tbody>\n",
       "    <tr>\n",
       "      <th>count</th>\n",
       "      <td>31586.000000</td>\n",
       "      <td>31586.000000</td>\n",
       "      <td>31586.000000</td>\n",
       "    </tr>\n",
       "    <tr>\n",
       "      <th>mean</th>\n",
       "      <td>994.961452</td>\n",
       "      <td>999.235799</td>\n",
       "      <td>962.013139</td>\n",
       "    </tr>\n",
       "    <tr>\n",
       "      <th>std</th>\n",
       "      <td>89.481852</td>\n",
       "      <td>80.166824</td>\n",
       "      <td>135.077292</td>\n",
       "    </tr>\n",
       "    <tr>\n",
       "      <th>min</th>\n",
       "      <td>-99.800000</td>\n",
       "      <td>-99.800000</td>\n",
       "      <td>-99.800000</td>\n",
       "    </tr>\n",
       "    <tr>\n",
       "      <th>25%</th>\n",
       "      <td>1007.500000</td>\n",
       "      <td>1009.600000</td>\n",
       "      <td>994.921569</td>\n",
       "    </tr>\n",
       "    <tr>\n",
       "      <th>50%</th>\n",
       "      <td>1014.900000</td>\n",
       "      <td>1017.491458</td>\n",
       "      <td>1009.600000</td>\n",
       "    </tr>\n",
       "    <tr>\n",
       "      <th>75%</th>\n",
       "      <td>1021.893750</td>\n",
       "      <td>1024.528095</td>\n",
       "      <td>1017.833333</td>\n",
       "    </tr>\n",
       "    <tr>\n",
       "      <th>max</th>\n",
       "      <td>1038.306250</td>\n",
       "      <td>1040.200000</td>\n",
       "      <td>1036.728571</td>\n",
       "    </tr>\n",
       "  </tbody>\n",
       "</table>\n",
       "</div>"
      ],
      "text/plain": [
       "             avg_ps        max_ps        min_ps\n",
       "count  31586.000000  31586.000000  31586.000000\n",
       "mean     994.961452    999.235799    962.013139\n",
       "std       89.481852     80.166824    135.077292\n",
       "min      -99.800000    -99.800000    -99.800000\n",
       "25%     1007.500000   1009.600000    994.921569\n",
       "50%     1014.900000   1017.491458   1009.600000\n",
       "75%     1021.893750   1024.528095   1017.833333\n",
       "max     1038.306250   1040.200000   1036.728571"
      ]
     },
     "execution_count": 6,
     "metadata": {},
     "output_type": "execute_result"
    }
   ],
   "source": [
    "df.describe()"
   ]
  },
  {
   "cell_type": "code",
   "execution_count": 62,
   "id": "1ce8a332",
   "metadata": {},
   "outputs": [],
   "source": [
    "# min, max 이상치 데이터 처리\n",
    "df.loc[df.max_ps < 500, 'max_ps'] = 500\n",
    "df.loc[df.min_ps < 500, 'min_ps'] = 500\n",
    "\n",
    "df.loc[df.max_ps > 1080, 'max_ps'] = 1080\n",
    "df.loc[df.min_ps > 1080, 'min_ps'] = 1080"
   ]
  },
  {
   "cell_type": "code",
   "execution_count": 68,
   "id": "834ceba9",
   "metadata": {},
   "outputs": [],
   "source": [
    "# avg 이상치 데이터 처리\n",
    "avg_ps = (df.loc[(df.avg_ps < 500) | (df.avg_ps > 1080), 'max_ps'] + df.loc[(df.avg_ps < 500) | (df.avg_ps > 1080), 'min_ps']) / 2\n",
    "df.loc[(df.avg_ps < 500) | (df.avg_ps > 1080), 'avg_ps'] = avg_ps"
   ]
  },
  {
   "cell_type": "code",
   "execution_count": 71,
   "id": "387a3956",
   "metadata": {},
   "outputs": [
    {
     "data": {
      "text/html": [
       "<div>\n",
       "<style scoped>\n",
       "    .dataframe tbody tr th:only-of-type {\n",
       "        vertical-align: middle;\n",
       "    }\n",
       "\n",
       "    .dataframe tbody tr th {\n",
       "        vertical-align: top;\n",
       "    }\n",
       "\n",
       "    .dataframe thead th {\n",
       "        text-align: right;\n",
       "    }\n",
       "</style>\n",
       "<table border=\"1\" class=\"dataframe\">\n",
       "  <thead>\n",
       "    <tr style=\"text-align: right;\">\n",
       "      <th></th>\n",
       "      <th>avg_ps</th>\n",
       "      <th>max_ps</th>\n",
       "      <th>min_ps</th>\n",
       "    </tr>\n",
       "  </thead>\n",
       "  <tbody>\n",
       "    <tr>\n",
       "      <th>count</th>\n",
       "      <td>31586.000000</td>\n",
       "      <td>31586.000000</td>\n",
       "      <td>31586.000000</td>\n",
       "    </tr>\n",
       "    <tr>\n",
       "      <th>mean</th>\n",
       "      <td>997.272627</td>\n",
       "      <td>1000.258755</td>\n",
       "      <td>966.059122</td>\n",
       "    </tr>\n",
       "    <tr>\n",
       "      <th>std</th>\n",
       "      <td>72.666703</td>\n",
       "      <td>70.607755</td>\n",
       "      <td>114.196870</td>\n",
       "    </tr>\n",
       "    <tr>\n",
       "      <th>min</th>\n",
       "      <td>500.000000</td>\n",
       "      <td>500.000000</td>\n",
       "      <td>500.000000</td>\n",
       "    </tr>\n",
       "    <tr>\n",
       "      <th>25%</th>\n",
       "      <td>1007.500000</td>\n",
       "      <td>1009.600000</td>\n",
       "      <td>994.921569</td>\n",
       "    </tr>\n",
       "    <tr>\n",
       "      <th>50%</th>\n",
       "      <td>1014.900000</td>\n",
       "      <td>1017.491458</td>\n",
       "      <td>1009.600000</td>\n",
       "    </tr>\n",
       "    <tr>\n",
       "      <th>75%</th>\n",
       "      <td>1021.893750</td>\n",
       "      <td>1024.528095</td>\n",
       "      <td>1017.833333</td>\n",
       "    </tr>\n",
       "    <tr>\n",
       "      <th>max</th>\n",
       "      <td>1038.306250</td>\n",
       "      <td>1040.200000</td>\n",
       "      <td>1036.728571</td>\n",
       "    </tr>\n",
       "  </tbody>\n",
       "</table>\n",
       "</div>"
      ],
      "text/plain": [
       "             avg_ps        max_ps        min_ps\n",
       "count  31586.000000  31586.000000  31586.000000\n",
       "mean     997.272627   1000.258755    966.059122\n",
       "std       72.666703     70.607755    114.196870\n",
       "min      500.000000    500.000000    500.000000\n",
       "25%     1007.500000   1009.600000    994.921569\n",
       "50%     1014.900000   1017.491458   1009.600000\n",
       "75%     1021.893750   1024.528095   1017.833333\n",
       "max     1038.306250   1040.200000   1036.728571"
      ]
     },
     "execution_count": 71,
     "metadata": {},
     "output_type": "execute_result"
    }
   ],
   "source": [
    "df.describe()"
   ]
  },
  {
   "cell_type": "code",
   "execution_count": 72,
   "id": "f8fad705",
   "metadata": {},
   "outputs": [],
   "source": [
    "df.to_csv('Z:/공모전/날씨빅데이터콘테스트(공유)/data/edited_data/airPressure_edited_0721.csv', encoding='cp949', index=False)"
   ]
  }
 ],
 "metadata": {
  "kernelspec": {
   "display_name": "Python 3 (ipykernel)",
   "language": "python",
   "name": "python3"
  },
  "language_info": {
   "codemirror_mode": {
    "name": "ipython",
    "version": 3
   },
   "file_extension": ".py",
   "mimetype": "text/x-python",
   "name": "python",
   "nbconvert_exporter": "python",
   "pygments_lexer": "ipython3",
   "version": "3.7.13"
  }
 },
 "nbformat": 4,
 "nbformat_minor": 5
}
